{
 "cells": [
  {
   "cell_type": "markdown",
   "metadata": {},
   "source": [
    "Links zu Dokumentationen/Tutorials für IPython/Python/numpy/matplotlib/git sowie die Sourcodes findet ihr im [GitHub Repo](https://github.com/BerndSchwarzenbacher/numdiff)."
   ]
  },
  {
   "cell_type": "code",
   "execution_count": 1,
   "metadata": {
    "collapsed": false
   },
   "outputs": [],
   "source": [
    "import numpy as np\n",
    "import matplotlib.pyplot as plt\n",
    "import math\n",
    "%matplotlib inline"
   ]
  },
  {
   "cell_type": "markdown",
   "metadata": {},
   "source": [
    "###Modellierung mit Newtonschem Gesetz:\n",
    "Die tangentiale Kraft $F_{tan}(t) = m \\; g \\; sin(\\alpha(t))$ wirkt entgegen der Rückstellkraft des Pendels:\n",
    "$F_{R}(t) = -F_{tan}(t) = m \\; \\ddot \\alpha(t) \\; l$.\n",
    "\n",
    "Insgesamt ergibt sich als DGL 2. Ordnung:\n",
    "$- m \\; g \\; sin(\\alpha(t)) = m \\; \\ddot \\alpha(t) \\; l$.\n",
    "\n",
    "Umgeformt auf ein DGL-System 1. Ordnung:\n",
    "\n",
    "$\\begin{eqnarray}\n",
    "  \\dot \\alpha(t) &=& x(t) \\\\\n",
    "  \\dot x(t)      &=& - \\frac{g}{l} sin(\\alpha(t))\n",
    "\\end{eqnarray}$"
   ]
  },
  {
   "cell_type": "markdown",
   "metadata": {},
   "source": [
    "###Modellierung mit Hamilonschem Prinzip:\n",
    "Gegeben ist die Energiefunktion: $H(p,q) = -m g l \\; cos(q) + \\frac{1}{2 m l^{2}} p^{2}$.\n",
    "\n",
    "Mit den Hamiltonschen Bewegungsgleichungen ergibt sich:\n",
    "\n",
    "$\\begin{eqnarray}\n",
    "  \\dot q &=& \\frac{\\partial H}{\\partial p} &=& p \\frac{1}{m l^{2}} \\\\\n",
    "  \\dot p &=& \\frac{\\partial H}{\\partial q} &=& -m g l \\; sin(q)\n",
    "\\end{eqnarray}$"
   ]
  },
  {
   "cell_type": "markdown",
   "metadata": {},
   "source": [
    "#Berechnung\n",
    "###Optionen:"
   ]
  },
  {
   "cell_type": "code",
   "execution_count": 2,
   "metadata": {
    "collapsed": false
   },
   "outputs": [],
   "source": [
    "step = 10**(-4)\n",
    "max_time = 10**4\n",
    "mass = 1\n",
    "grav = 1\n",
    "length = 1"
   ]
  },
  {
   "cell_type": "markdown",
   "metadata": {},
   "source": [
    "###Anfangswerte:"
   ]
  },
  {
   "cell_type": "code",
   "execution_count": 3,
   "metadata": {
    "collapsed": false
   },
   "outputs": [],
   "source": [
    "alpha0 = math.pi/4\n",
    "alpha_dot_0 = 0"
   ]
  },
  {
   "cell_type": "code",
   "execution_count": 4,
   "metadata": {
    "collapsed": false
   },
   "outputs": [],
   "source": [
    "sol_length = max_time/step\n",
    "time = np.arange(0, max_time, step)\n",
    "solution = np.zeros((2, sol_length))\n",
    "solution[0, 0] = alpha0\n",
    "solution[1, 0] = alpha_dot_0"
   ]
  },
  {
   "cell_type": "markdown",
   "metadata": {},
   "source": [
    "###Explizites Eulerverfahren - Iteration:"
   ]
  },
  {
   "cell_type": "code",
   "execution_count": 5,
   "metadata": {
    "collapsed": false,
    "scrolled": true
   },
   "outputs": [
    {
     "name": "stdout",
     "output_type": "stream",
     "text": [
      "CPU times: user 0 ns, sys: 0 ns, total: 0 ns\n",
      "Wall time: 3.81 µs\n"
     ]
    }
   ],
   "source": [
    "%time \n",
    "for i, s in enumerate(solution[:,:-1].transpose()): \n",
    "    solution[0,i+1] = s[0] + step * s[1]\n",
    "    solution[1,i+1] = s[1] - step * grav/length * math.sin(s[0])"
   ]
  },
  {
   "cell_type": "code",
   "execution_count": 7,
   "metadata": {
    "collapsed": false,
    "scrolled": true
   },
   "outputs": [
    {
     "data": {
      "image/png": "[encoded data removed]",
      "text/plain": [
       "<matplotlib.figure.Figure at 0x7f2fac104a20>"
      ]
     },
     "metadata": {},
     "output_type": "display_data"
    }
   ],
   "source": [
    "plt.plot(time, solution[1,:])\n",
    "#plt.axis([-0.1, 1.1, -0.1, 1.1])\n",
    "plt.grid()\n",
    "plt.show()"
   ]
  },
  {
   "cell_type": "code",
   "execution_count": null,
   "metadata": {
    "collapsed": true
   },
   "outputs": [],
   "source": []
  }
 ],
 "metadata": {
  "kernelspec": {
   "display_name": "Python 3",
   "language": "python",
   "name": "python3"
  },
  "language_info": {
   "codemirror_mode": {
    "name": "ipython",
    "version": 3
   },
   "file_extension": ".py",
   "mimetype": "text/x-python",
   "name": "python",
   "nbconvert_exporter": "python",
   "pygments_lexer": "ipython3",
   "version": "3.4.3"
  }
 },
 "nbformat": 4,
 "nbformat_minor": 0
}
