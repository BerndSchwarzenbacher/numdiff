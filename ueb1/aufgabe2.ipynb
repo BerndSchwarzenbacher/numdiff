{
 "cells": [
  {
   "cell_type": "code",
   "execution_count": 1,
   "metadata": {
    "collapsed": true
   },
   "outputs": [],
   "source": [
    "import numpy as np\n",
    "import matplotlib.pyplot as plt\n",
    "%matplotlib inline"
   ]
  },
  {
   "cell_type": "markdown",
   "metadata": {},
   "source": [
    "Die Differentialgleichung lautet:\n",
    "$v(t) = k'(t) = 2 * \\left( \\begin{pmatrix}0\\\\t\\end{pmatrix} - k(t) \\right)$"
   ]
  },
  {
   "cell_type": "code",
   "execution_count": 2,
   "metadata": {
    "collapsed": false
   },
   "outputs": [],
   "source": [
    "step = 10**(-3)\n",
    "length = 1/step\n",
    "time = np.arange(0, 1-step, step)\n",
    "mouse = np.vstack((np.zeros(length-1), time))\n",
    "cat = np.zeros((2, length))\n",
    "cat[0, 0] = 1 # x-Koordinate der Katze zum Zeitpunkt 0, Anfangswert"
   ]
  },
  {
   "cell_type": "code",
   "execution_count": 3,
   "metadata": {
    "collapsed": false
   },
   "outputs": [],
   "source": [
    "for i, m in enumerate(mouse.transpose()):\n",
    "    direction = m - cat[:,i]\n",
    "    cat[:,i+1] = cat[:,i] + step * 2 * direction / np.linalg.norm(direction)"
   ]
  },
  {
   "cell_type": "code",
   "execution_count": 4,
   "metadata": {
    "collapsed": false
   },
   "outputs": [
    {
     "data": {
      "image/png": "[encoded data removed]",
      "text/plain": [
       "<matplotlib.figure.Figure at 0x7f900b87d5f8>"
      ]
     },
     "metadata": {},
     "output_type": "display_data"
    }
   ],
   "source": [
    "plt.plot(cat[0], cat[1], 'r--', mouse[0], mouse[1], 'b')\n",
    "plt.axis([-0.1, 1.1, -0.1, 1.1])\n",
    "plt.grid()\n",
    "plt.show()"
   ]
  }
 ],
 "metadata": {
  "kernelspec": {
   "display_name": "Python 3",
   "language": "python",
   "name": "python3"
  },
  "language_info": {
   "codemirror_mode": {
    "name": "ipython",
    "version": 3
   },
   "file_extension": ".py",
   "mimetype": "text/x-python",
   "name": "python",
   "nbconvert_exporter": "python",
   "pygments_lexer": "ipython3",
   "version": "3.4.3"
  }
 },
 "nbformat": 4,
 "nbformat_minor": 0
}
