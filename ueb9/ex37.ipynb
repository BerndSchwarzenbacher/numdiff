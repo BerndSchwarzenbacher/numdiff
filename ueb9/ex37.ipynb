{
 "cells": [
  {
   "cell_type": "code",
   "execution_count": 33,
   "metadata": {
    "collapsed": false
   },
   "outputs": [],
   "source": [
    "from IPython.display import display\n",
    "from sympy import Matrix, ones\n",
    "from sympy.plotting import plot\n",
    "from sympy import init_printing\n",
    "init_printing()"
   ]
  },
  {
   "cell_type": "code",
   "execution_count": 2,
   "metadata": {
    "collapsed": false
   },
   "outputs": [],
   "source": [
    "k1 = 10\n",
    "k2 = 1\n",
    "a = 0\n",
    "b = 0.5\n",
    "c = 1\n",
    "ua = 0\n",
    "uc = 1\n",
    "f = 1"
   ]
  },
  {
   "cell_type": "code",
   "execution_count": 11,
   "metadata": {
    "collapsed": false
   },
   "outputs": [
    {
     "data": {
      "image/png": "[encoded data removed]",
      "text/latex": [
       "$$10$$"
      ],
      "text/plain": [
       "10"
      ]
     },
     "execution_count": 11,
     "metadata": {},
     "output_type": "execute_result"
    }
   ],
   "source": [
    "h = 0.1\n",
    "n = int((c - a) / h)\n",
    "n"
   ]
  },
  {
   "cell_type": "code",
   "execution_count": 23,
   "metadata": {
    "collapsed": true
   },
   "outputs": [],
   "source": [
    "def f(i, j):\n",
    "    if i == n/2-1:\n",
    "        if i == j:\n",
    "            return k1 + k2\n",
    "        if j == i-1:\n",
    "            return -k1\n",
    "        if j == i+1:\n",
    "            return -k2\n",
    "    if i < n/2-1:\n",
    "        cons = k1\n",
    "    elif i > n/2-1:\n",
    "        cons = k2\n",
    "    \n",
    "        \n",
    "    if i == j:\n",
    "        return 2*cons\n",
    "    elif j == i-1 or j == i+1:\n",
    "        return -cons\n",
    "    else:\n",
    "        return 0"
   ]
  },
  {
   "cell_type": "code",
   "execution_count": 24,
   "metadata": {
    "collapsed": false
   },
   "outputs": [
    {
     "data": {
      "image/png": "[encoded data removed]",
      "text/latex": [
       "$$\\left[\\begin{matrix}20 & -10 & 0 & 0 & 0 & 0 & 0 & 0 & 0\\\\-10 & 20 & -10 & 0 & 0 & 0 & 0 & 0 & 0\\\\0 & -10 & 20 & -10 & 0 & 0 & 0 & 0 & 0\\\\0 & 0 & -10 & 20 & -10 & 0 & 0 & 0 & 0\\\\0 & 0 & 0 & -10 & 11 & -1 & 0 & 0 & 0\\\\0 & 0 & 0 & 0 & -1 & 2 & -1 & 0 & 0\\\\0 & 0 & 0 & 0 & 0 & -1 & 2 & -1 & 0\\\\0 & 0 & 0 & 0 & 0 & 0 & -1 & 2 & -1\\\\0 & 0 & 0 & 0 & 0 & 0 & 0 & -1 & 2\\end{matrix}\\right]$$"
      ],
      "text/plain": [
       "⎡20   -10   0    0    0   0   0   0   0 ⎤\n",
       "⎢                                       ⎥\n",
       "⎢-10  20   -10   0    0   0   0   0   0 ⎥\n",
       "⎢                                       ⎥\n",
       "⎢ 0   -10  20   -10   0   0   0   0   0 ⎥\n",
       "⎢                                       ⎥\n",
       "⎢ 0    0   -10  20   -10  0   0   0   0 ⎥\n",
       "⎢                                       ⎥\n",
       "⎢ 0    0    0   -10  11   -1  0   0   0 ⎥\n",
       "⎢                                       ⎥\n",
       "⎢ 0    0    0    0   -1   2   -1  0   0 ⎥\n",
       "⎢                                       ⎥\n",
       "⎢ 0    0    0    0    0   -1  2   -1  0 ⎥\n",
       "⎢                                       ⎥\n",
       "⎢ 0    0    0    0    0   0   -1  2   -1⎥\n",
       "⎢                                       ⎥\n",
       "⎣ 0    0    0    0    0   0   0   -1  2 ⎦"
      ]
     },
     "metadata": {},
     "output_type": "display_data"
    }
   ],
   "source": [
    "M = Matrix(n-1, n-1, f)\n",
    "display(M)\n",
    "M *= 1/(h**2)"
   ]
  },
  {
   "cell_type": "code",
   "execution_count": 27,
   "metadata": {
    "collapsed": false
   },
   "outputs": [
    {
     "data": {
      "image/png": "[encoded data removed]",
      "text/latex": [
       "$$\\left[\\begin{matrix}1.0\\\\1\\\\1\\\\1\\\\0\\\\1\\\\1\\\\1\\\\101.0\\end{matrix}\\right]$$"
      ],
      "text/plain": [
       "⎡ 1.0 ⎤\n",
       "⎢     ⎥\n",
       "⎢  1  ⎥\n",
       "⎢     ⎥\n",
       "⎢  1  ⎥\n",
       "⎢     ⎥\n",
       "⎢  1  ⎥\n",
       "⎢     ⎥\n",
       "⎢  0  ⎥\n",
       "⎢     ⎥\n",
       "⎢  1  ⎥\n",
       "⎢     ⎥\n",
       "⎢  1  ⎥\n",
       "⎢     ⎥\n",
       "⎢  1  ⎥\n",
       "⎢     ⎥\n",
       "⎣101.0⎦"
      ]
     },
     "execution_count": 27,
     "metadata": {},
     "output_type": "execute_result"
    }
   ],
   "source": [
    "b = ones(n-1, 1)\n",
    "b[0] += k1 * 1/(h**2) * ua\n",
    "b[int(n/2)-1] = 0\n",
    "b[n-2] += k2 * 1/(h**2) * uc\n",
    "b"
   ]
  },
  {
   "cell_type": "code",
   "execution_count": 38,
   "metadata": {
    "collapsed": false
   },
   "outputs": [],
   "source": [
    "u = Matrix.vstack(Matrix([ua]), M.inv() * b, Matrix([uc]))"
   ]
  },
  {
   "cell_type": "code",
   "execution_count": 35,
   "metadata": {
    "collapsed": false
   },
   "outputs": [
    {
     "ename": "TypeError",
     "evalue": "'NoneType' object is not iterable",
     "output_type": "error",
     "traceback": [
      "\u001b[1;31m---------------------------------------------------------------------------\u001b[0m",
      "\u001b[1;31mTypeError\u001b[0m                                 Traceback (most recent call last)",
      "\u001b[1;32m<ipython-input-35-258cc789e3ec>\u001b[0m in \u001b[0;36m<module>\u001b[1;34m()\u001b[0m\n\u001b[1;32m----> 1\u001b[1;33m \u001b[0mplot\u001b[0m\u001b[1;33m(\u001b[0m\u001b[0mu\u001b[0m\u001b[1;33m)\u001b[0m\u001b[1;33m\u001b[0m\u001b[0m\n\u001b[0m",
      "\u001b[1;32m/home/bernd/.virtualenvs/numdiff/lib/python3.4/site-packages/sympy/plotting/plot.py\u001b[0m in \u001b[0;36mplot\u001b[1;34m(*args, **kwargs)\u001b[0m\n\u001b[0;32m   1274\u001b[0m     \u001b[0mseries\u001b[0m \u001b[1;33m=\u001b[0m \u001b[1;33m[\u001b[0m\u001b[1;33m]\u001b[0m\u001b[1;33m\u001b[0m\u001b[0m\n\u001b[0;32m   1275\u001b[0m     \u001b[0mplot_expr\u001b[0m \u001b[1;33m=\u001b[0m \u001b[0mcheck_arguments\u001b[0m\u001b[1;33m(\u001b[0m\u001b[0margs\u001b[0m\u001b[1;33m,\u001b[0m \u001b[1;36m1\u001b[0m\u001b[1;33m,\u001b[0m \u001b[1;36m1\u001b[0m\u001b[1;33m)\u001b[0m\u001b[1;33m\u001b[0m\u001b[0m\n\u001b[1;32m-> 1276\u001b[1;33m     \u001b[0mseries\u001b[0m \u001b[1;33m=\u001b[0m \u001b[1;33m[\u001b[0m\u001b[0mLineOver1DRangeSeries\u001b[0m\u001b[1;33m(\u001b[0m\u001b[1;33m*\u001b[0m\u001b[0marg\u001b[0m\u001b[1;33m,\u001b[0m \u001b[1;33m**\u001b[0m\u001b[0mkwargs\u001b[0m\u001b[1;33m)\u001b[0m \u001b[1;32mfor\u001b[0m \u001b[0marg\u001b[0m \u001b[1;32min\u001b[0m \u001b[0mplot_expr\u001b[0m\u001b[1;33m]\u001b[0m\u001b[1;33m\u001b[0m\u001b[0m\n\u001b[0m\u001b[0;32m   1277\u001b[0m \u001b[1;33m\u001b[0m\u001b[0m\n\u001b[0;32m   1278\u001b[0m     \u001b[0mplots\u001b[0m \u001b[1;33m=\u001b[0m \u001b[0mPlot\u001b[0m\u001b[1;33m(\u001b[0m\u001b[1;33m*\u001b[0m\u001b[0mseries\u001b[0m\u001b[1;33m,\u001b[0m \u001b[1;33m**\u001b[0m\u001b[0mkwargs\u001b[0m\u001b[1;33m)\u001b[0m\u001b[1;33m\u001b[0m\u001b[0m\n",
      "\u001b[1;31mTypeError\u001b[0m: 'NoneType' object is not iterable"
     ]
    }
   ],
   "source": [
    "plot(u)"
   ]
  },
  {
   "cell_type": "code",
   "execution_count": null,
   "metadata": {
    "collapsed": true
   },
   "outputs": [],
   "source": []
  }
 ],
 "metadata": {
  "kernelspec": {
   "display_name": "Python 3",
   "language": "python",
   "name": "python3"
  },
  "language_info": {
   "codemirror_mode": {
    "name": "ipython",
    "version": 3
   },
   "file_extension": ".py",
   "mimetype": "text/x-python",
   "name": "python",
   "nbconvert_exporter": "python",
   "pygments_lexer": "ipython3",
   "version": "3.4.3"
  }
 },
 "nbformat": 4,
 "nbformat_minor": 0
}
