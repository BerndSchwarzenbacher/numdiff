{
 "cells": [
  {
   "cell_type": "code",
   "execution_count": 1,
   "metadata": {
    "collapsed": false
   },
   "outputs": [],
   "source": [
    "from IPython.display import display\n",
    "import numpy as np\n",
    "import matplotlib.pyplot as plt\n",
    "%matplotlib inline"
   ]
  },
  {
   "cell_type": "code",
   "execution_count": 2,
   "metadata": {
    "collapsed": false
   },
   "outputs": [],
   "source": [
    "k1 = 10\n",
    "k2 = 1\n",
    "a = 0\n",
    "b = 0.5\n",
    "c = 1\n",
    "ua = 0\n",
    "uc = 1\n",
    "f = 1"
   ]
  },
  {
   "cell_type": "code",
   "execution_count": 3,
   "metadata": {
    "collapsed": false
   },
   "outputs": [],
   "source": [
    "h = 0.1\n",
    "n = int((c - a) / h)\n",
    "m = int((b-a)/c * n)-1"
   ]
  },
  {
   "cell_type": "code",
   "execution_count": 4,
   "metadata": {
    "collapsed": false
   },
   "outputs": [],
   "source": [
    "def mat_f(i, j):\n",
    "    if i == m:\n",
    "        if i == j:\n",
    "            return k1 + k2\n",
    "        if j == i-1:\n",
    "            return -k1\n",
    "        if j == i+1:\n",
    "            return -k2\n",
    "    if i < m:\n",
    "        cons = k1\n",
    "    elif i > m:\n",
    "        cons = k2\n",
    "    \n",
    "        \n",
    "    if i == j:\n",
    "        return 2*cons\n",
    "    elif j == i-1 or j == i+1:\n",
    "        return -cons\n",
    "    else:\n",
    "        return 0"
   ]
  },
  {
   "cell_type": "code",
   "execution_count": 5,
   "metadata": {
    "collapsed": false
   },
   "outputs": [],
   "source": [
    "M = np.fromfunction(np.vectorize(mat_f), (n-1, n-1))\n",
    "M *= 1/h"
   ]
  },
  {
   "cell_type": "code",
   "execution_count": 6,
   "metadata": {
    "collapsed": false
   },
   "outputs": [],
   "source": [
    "y = h * f * np.ones(n-1)\n",
    "y[0] += k1 * 1/h * ua\n",
    "y[n-2] += k2 * 1/h * uc"
   ]
  },
  {
   "cell_type": "code",
   "execution_count": 7,
   "metadata": {
    "collapsed": false
   },
   "outputs": [],
   "source": [
    "x = np.dot(np.linalg.inv(M),y)\n",
    "u = np.hstack((np.array([ua]), x, np.array([uc])))"
   ]
  },
  {
   "cell_type": "code",
   "execution_count": 8,
   "metadata": {
    "collapsed": false
   },
   "outputs": [
    {
     "data": {
      "image/png": "[encoded data removed]",
      "text/plain": [
       "<matplotlib.figure.Figure at 0x7f5619141668>"
      ]
     },
     "metadata": {},
     "output_type": "display_data"
    }
   ],
   "source": [
    "plt.plot(u)\n",
    "plt.show()"
   ]
  },
  {
   "cell_type": "code",
   "execution_count": 9,
   "metadata": {
    "collapsed": false
   },
   "outputs": [
    {
     "data": {
      "image/png": "[encoded data removed]",
      "text/plain": [
       "<matplotlib.figure.Figure at 0x7f561916f0b8>"
      ]
     },
     "metadata": {},
     "output_type": "display_data"
    }
   ],
   "source": [
    "koef1 = k1 * np.ones(m+1)\n",
    "koef2 = k2 * np.ones(n-m-1)\n",
    "koeff = np.hstack([koef1, koef2])\n",
    "udot = np.diff(u)/h\n",
    "plt.plot(udot*koeff)\n",
    "plt.show()"
   ]
  },
  {
   "cell_type": "code",
   "execution_count": null,
   "metadata": {
    "collapsed": true
   },
   "outputs": [],
   "source": []
  }
 ],
 "metadata": {
  "kernelspec": {
   "display_name": "Python 3",
   "language": "python",
   "name": "python3"
  },
  "language_info": {
   "codemirror_mode": {
    "name": "ipython",
    "version": 3
   },
   "file_extension": ".py",
   "mimetype": "text/x-python",
   "name": "python",
   "nbconvert_exporter": "python",
   "pygments_lexer": "ipython3",
   "version": "3.4.3"
  }
 },
 "nbformat": 4,
 "nbformat_minor": 0
}
