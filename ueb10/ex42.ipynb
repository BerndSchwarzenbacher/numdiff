{
 "cells": [
  {
   "cell_type": "code",
   "execution_count": 1,
   "metadata": {
    "collapsed": false
   },
   "outputs": [],
   "source": [
    "from IPython.display import display\n",
    "import numpy as np\n",
    "import matplotlib.pyplot as plt\n",
    "%matplotlib inline"
   ]
  },
  {
   "cell_type": "markdown",
   "metadata": {},
   "source": [
    "Gegeben ist das Randwertproblem\n",
    "\n",
    "\\begin{eqnarray}\n",
    "    -u''(x) + u(x) = 1 & \\qquad \\text{für} \\; x \\in (0,1)\\\\\n",
    "    u(0) = 0\\\\\n",
    "    u'(1) = 1\n",
    "\\end{eqnarray}\n",
    "\n",
    "\\begin{equation}\n",
    "    \\sum_{i=0}^{p}\n",
    "\\end{equation}"
   ]
  },
  {
   "cell_type": "code",
   "execution_count": 2,
   "metadata": {
    "collapsed": false
   },
   "outputs": [],
   "source": [
    "x0 = 0\n",
    "xend = 1\n",
    "u0 = 0\n",
    "udot_end = 1\n",
    "f = 1\n",
    "p = 12"
   ]
  },
  {
   "cell_type": "code",
   "execution_count": 3,
   "metadata": {
    "collapsed": false
   },
   "outputs": [],
   "source": [
    "def mat_f(i, j):\n",
    "    i += 1\n",
    "    j += 1\n",
    "    return i * j / (i+j-1) + 1 / (i+j+1)\n",
    "\n",
    "base_matrix = np.fromfunction(np.vectorize(mat_f), (p, p))"
   ]
  },
  {
   "cell_type": "code",
   "execution_count": 8,
   "metadata": {
    "collapsed": false
   },
   "outputs": [],
   "source": [
    "rhs_list = [1/(i+1) + udot_end for i in range(1, p+1)]\n",
    "rhs = np.array(rhs_list)"
   ]
  },
  {
   "cell_type": "code",
   "execution_count": 9,
   "metadata": {
    "collapsed": false
   },
   "outputs": [],
   "source": [
    "up_coeff = np.dot(np.linalg.inv(base_matrix),rhs)\n",
    "up_coeff = np.hstack((np.array([u0]), up_coeff))"
   ]
  },
  {
   "cell_type": "code",
   "execution_count": 10,
   "metadata": {
    "collapsed": false
   },
   "outputs": [],
   "source": [
    "h = 0.01\n",
    "xi = np.arange(0, 1+h, h)\n",
    "up = 0 * xi\n",
    "for j, coeff in enumerate(up_coeff):\n",
    "    up += coeff * xi**j"
   ]
  },
  {
   "cell_type": "code",
   "execution_count": 11,
   "metadata": {
    "collapsed": false
   },
   "outputs": [
    {
     "data": {
      "image/png": "[encoded data removed]",
      "text/plain": [
       "<matplotlib.figure.Figure at 0x7f5753e7df28>"
      ]
     },
     "metadata": {},
     "output_type": "display_data"
    }
   ],
   "source": [
    "plt.plot(up)\n",
    "plt.show()"
   ]
  },
  {
   "cell_type": "code",
   "execution_count": null,
   "metadata": {
    "collapsed": true
   },
   "outputs": [],
   "source": []
  }
 ],
 "metadata": {
  "kernelspec": {
   "display_name": "Python 3",
   "language": "python",
   "name": "python3"
  },
  "language_info": {
   "codemirror_mode": {
    "name": "ipython",
    "version": 3
   },
   "file_extension": ".py",
   "mimetype": "text/x-python",
   "name": "python",
   "nbconvert_exporter": "python",
   "pygments_lexer": "ipython3",
   "version": "3.4.3"
  }
 },
 "nbformat": 4,
 "nbformat_minor": 0
}
