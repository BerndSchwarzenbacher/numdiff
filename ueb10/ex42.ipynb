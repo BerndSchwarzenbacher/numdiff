{
 "cells": [
  {
   "cell_type": "code",
   "execution_count": 1,
   "metadata": {
    "collapsed": false
   },
   "outputs": [],
   "source": [
    "from IPython.display import display\n",
    "import numpy as np\n",
    "import matplotlib.pyplot as plt\n",
    "%matplotlib inline"
   ]
  },
  {
   "cell_type": "markdown",
   "metadata": {},
   "source": [
    "Gegeben ist das Randwertproblem\n",
    "\n",
    "\\begin{eqnarray}\n",
    "    -u''(x) + u(x) = 1 & \\qquad \\text{für} \\; x \\in (0,1)\\\\\n",
    "    u(0) = 0\\\\\n",
    "    u'(1) = 1\n",
    "\\end{eqnarray}"
   ]
  },
  {
   "cell_type": "code",
   "execution_count": 2,
   "metadata": {
    "collapsed": false
   },
   "outputs": [],
   "source": [
    "x0 = 0\n",
    "xend = 1\n",
    "u0 = 0\n",
    "udot_end = 1\n",
    "f = 1"
   ]
  },
  {
   "cell_type": "code",
   "execution_count": 3,
   "metadata": {
    "collapsed": true
   },
   "outputs": [],
   "source": [
    "def mat_f(i, j):\n",
    "    i += 1\n",
    "    j += 1\n",
    "    return i * j / (i+j-1) + 1 / (i+j+1)"
   ]
  },
  {
   "cell_type": "code",
   "execution_count": 4,
   "metadata": {
    "collapsed": false
   },
   "outputs": [],
   "source": [
    "def p_FEM(p, xi):\n",
    "    base_matrix = np.fromfunction(np.vectorize(mat_f), (p, p))\n",
    "\n",
    "    rhs_list = [1/(i+1) + udot_end for i in range(1, p+1)]\n",
    "    rhs = np.array(rhs_list)\n",
    "\n",
    "    up_coeff = np.linalg.solve(base_matrix, rhs)\n",
    "    up_coeff = np.hstack((np.array([u0]), up_coeff))\n",
    "    \n",
    "    up = 0\n",
    "    for j, coeff in enumerate(up_coeff):\n",
    "        up += coeff * xi**j\n",
    "        \n",
    "    return up"
   ]
  },
  {
   "cell_type": "code",
   "execution_count": 5,
   "metadata": {
    "collapsed": false
   },
   "outputs": [
    {
     "data": {
      "image/png": "[encoded data removed]",
      "text/plain": [
       "<matplotlib.figure.Figure at 0x7fe2f20b9c18>"
      ]
     },
     "metadata": {},
     "output_type": "display_data"
    }
   ],
   "source": [
    "h = 0.01\n",
    "xi = np.arange(0, 1+h, h)\n",
    "for p in range(0,5):\n",
    "    plt.plot(p_FEM(2**p, xi))\n",
    "    \n",
    "plt.show()"
   ]
  },
  {
   "cell_type": "code",
   "execution_count": null,
   "metadata": {
    "collapsed": true
   },
   "outputs": [],
   "source": []
  }
 ],
 "metadata": {
  "kernelspec": {
   "display_name": "Python 3",
   "language": "python",
   "name": "python3"
  },
  "language_info": {
   "codemirror_mode": {
    "name": "ipython",
    "version": 3
   },
   "file_extension": ".py",
   "mimetype": "text/x-python",
   "name": "python",
   "nbconvert_exporter": "python",
   "pygments_lexer": "ipython3",
   "version": "3.4.3"
  }
 },
 "nbformat": 4,
 "nbformat_minor": 0
}
