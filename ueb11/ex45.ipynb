{
 "cells": [
  {
   "cell_type": "code",
   "execution_count": 1,
   "metadata": {
    "collapsed": false
   },
   "outputs": [],
   "source": [
    "import numpy as np\n",
    "import math\n",
    "import matplotlib.pyplot as plt\n",
    "%matplotlib inline"
   ]
  },
  {
   "cell_type": "code",
   "execution_count": 2,
   "metadata": {
    "collapsed": true
   },
   "outputs": [],
   "source": [
    "x_current = 1\n",
    "f = 0\n",
    "step = 0.01\n",
    "x_start = 0\n",
    "x_end = 1\n",
    "t_start = 0\n",
    "t_end = 1\n",
    "u_dirichlet = 0\n",
    "u0_func = lambda x: 1 * (0.3 <= x < 0.4)  # 1 * True = 1 / 1 * False = 0"
   ]
  },
  {
   "cell_type": "code",
   "execution_count": 3,
   "metadata": {
    "collapsed": true
   },
   "outputs": [],
   "source": [
    "x = np.arange(x_start, x_end+step, step)\n",
    "u0 = np.vectorize(u0_func)(x)\n",
    "time = np.arange(t_start, t_end+step, step)"
   ]
  },
  {
   "cell_type": "code",
   "execution_count": 4,
   "metadata": {
    "collapsed": true
   },
   "outputs": [],
   "source": [
    "def build_rhs(step, f, left_dirichlet, u_prev):\n",
    "    dim = u_prev.size\n",
    "    rhs = f * np.ones(dim)\n",
    "    rhs[0] + left_dirichlet\n",
    "    return rhs + step * u_prev"
   ]
  },
  {
   "cell_type": "code",
   "execution_count": 5,
   "metadata": {
    "collapsed": true
   },
   "outputs": [],
   "source": [
    "def indexer(i, j):\n",
    "    if i == j:\n",
    "        return step * x_current + step\n",
    "    elif i == j+1:\n",
    "        return - step * x_current \n",
    "    else:\n",
    "        return 0\n",
    "\n",
    "def build_mat(dim):\n",
    "    return np.fromfunction(np.vectorize(indexer), (dim, dim))"
   ]
  },
  {
   "cell_type": "code",
   "execution_count": 6,
   "metadata": {
    "collapsed": false
   },
   "outputs": [
    {
     "data": {
      "image/png": "[encoded data removed]",
      "text/plain": [
       "<matplotlib.figure.Figure at 0x7fb6f500eb38>"
      ]
     },
     "metadata": {},
     "output_type": "display_data"
    }
   ],
   "source": [
    "u_prev = u0\n",
    "for t in time:\n",
    "    rhs = build_rhs(step, f, u_dirichlet, u_prev)\n",
    "    mat = build_mat(u_prev.size)\n",
    "    u_prev = np.linalg.solve(mat, rhs)\n",
    "    if t == 0.5 or t == 0.1:\n",
    "        plt.plot(u_prev)\n",
    "plt.plot(u_prev)\n",
    "plt.show()"
   ]
  },
  {
   "cell_type": "markdown",
   "metadata": {},
   "source": [
    "$$h b_{x} u_{t,1} - h b_{x} u_g(0, t) + h b_{y} u_{t,1} - h b_{y} u_{t-1,1} = f1 := \\int_{T_{t,1}} f(x) dx$$\n",
    "$$h b_{x} u_{t,j} - h b_{x} u_{t,j-1} + h b_{y} u_{t,j} - h b_{y} u_{t-1,j} = fj := \\int_{T_{t,j}} f(x) dx$$\n",
    "\n",
    "daraus folgt:\n",
    "\n",
    "\\begin{equation}\n",
    "\n",
    "    \\begin{pmatrix}\n",
    "        h b_{x} + h b_{y} \\\\\n",
    "        -h b_{x} & h b_{x} + h b_{y} \\\\\n",
    "        & \\ddots & \\ddots \\\\\n",
    "        & -h b_{x} & h b_{x} + h b_{y} \\\\\n",
    "    \\end{pmatrix}\n",
    "    \n",
    "    \\begin{pmatrix}\n",
    "    \tu_{t,1} \\\\\n",
    "        u_{t,2} \\\\\n",
    "        \\vdots  \\\\\n",
    "        u_{t,j} \\\\\n",
    "        \\vdots  \\\\\n",
    "        u_{t,n} \\\\\n",
    "    \\end{pmatrix}\n",
    "    \n",
    "    =\n",
    "    \n",
    "    \\begin{pmatrix}\n",
    "        f_{1} + h b_{y} u_{t-1,1} + h b_{x} u_g(0, t) \\\\\n",
    "        f_{2} + h b_{y} u_{t-1,2} \\\\\n",
    "        \\vdots  \\\\\n",
    "        f_{j} + h b_{y} u_{t-1,j} \\\\\n",
    "        \\vdots  \\\\\n",
    "        f_{n} + h b_{y} u_{t-1,n} \\\\\n",
    "    \\end{pmatrix}\n",
    "\\end{equation}"
   ]
  },
  {
   "cell_type": "code",
   "execution_count": null,
   "metadata": {
    "collapsed": true
   },
   "outputs": [],
   "source": []
  }
 ],
 "metadata": {
  "kernelspec": {
   "display_name": "Python 3",
   "language": "python",
   "name": "python3"
  },
  "language_info": {
   "codemirror_mode": {
    "name": "ipython",
    "version": 3
   },
   "file_extension": ".py",
   "mimetype": "text/x-python",
   "name": "python",
   "nbconvert_exporter": "python",
   "pygments_lexer": "ipython3",
   "version": "3.4.3"
  }
 },
 "nbformat": 4,
 "nbformat_minor": 0
}
